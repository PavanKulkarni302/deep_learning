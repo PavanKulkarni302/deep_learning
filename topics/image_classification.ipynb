{
 "cells": [
  {
   "cell_type": "code",
   "execution_count": null,
   "id": "7215df7f-d196-4d6a-acfa-3ab20e7e0dbc",
   "metadata": {},
   "outputs": [],
   "source": [
    "#go to \n",
    "https://colab.research.google.com/drive/1fL5Hd120ZoyYZmdOGPRK_7GuLtWxAt_I?usp=sharing"
   ]
  }
 ],
 "metadata": {
  "kernelspec": {
   "display_name": "Python 3 (ipykernel)",
   "language": "python",
   "name": "python3"
  },
  "language_info": {
   "codemirror_mode": {
    "name": "ipython",
    "version": 3
   },
   "file_extension": ".py",
   "mimetype": "text/x-python",
   "name": "python",
   "nbconvert_exporter": "python",
   "pygments_lexer": "ipython3",
   "version": "3.11.7"
  }
 },
 "nbformat": 4,
 "nbformat_minor": 5
}
