{
 "cells": [
  {
   "cell_type": "code",
   "execution_count": null,
   "id": "6fbae617-8b05-4eb1-8b76-27602d3e3080",
   "metadata": {},
   "outputs": [],
   "source": [
    "#visit\n",
    "https://colab.research.google.com/drive/1cVxKwlxnV770VwkJZpUTQEgFbN0hQjSY#scrollTo=1a3fWSqtfMhp"
   ]
  }
 ],
 "metadata": {
  "kernelspec": {
   "display_name": "Python 3 (ipykernel)",
   "language": "python",
   "name": "python3"
  },
  "language_info": {
   "codemirror_mode": {
    "name": "ipython",
    "version": 3
   },
   "file_extension": ".py",
   "mimetype": "text/x-python",
   "name": "python",
   "nbconvert_exporter": "python",
   "pygments_lexer": "ipython3",
   "version": "3.11.7"
  }
 },
 "nbformat": 4,
 "nbformat_minor": 5
}
