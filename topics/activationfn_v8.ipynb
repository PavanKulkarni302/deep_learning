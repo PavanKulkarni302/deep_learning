{
 "cells": [
  {
   "cell_type": "markdown",
   "id": "6fb6ba4c-216c-490d-9052-38b2caf7c48e",
   "metadata": {},
   "source": [
    "# Sigmoid function\n",
    "\n",
    "returns values between 0 and 1"
   ]
  },
  {
   "cell_type": "code",
   "execution_count": 17,
   "id": "b67b3bd6-f7ef-4af5-bc18-20b72d9463bc",
   "metadata": {},
   "outputs": [],
   "source": [
    "import math"
   ]
  },
  {
   "cell_type": "code",
   "execution_count": 18,
   "id": "ee8844d5-493f-405f-aaad-637012f0f3e6",
   "metadata": {},
   "outputs": [],
   "source": [
    "def sigmoid(z):\n",
    "    return 1/(1 + math.exp(-z))"
   ]
  },
  {
   "cell_type": "code",
   "execution_count": 19,
   "id": "854cb65d-30ed-4217-ae09-061ab6be2b09",
   "metadata": {},
   "outputs": [
    {
     "data": {
      "text/plain": [
       "1.0"
      ]
     },
     "execution_count": 19,
     "metadata": {},
     "output_type": "execute_result"
    }
   ],
   "source": [
    "sigmoid(100)"
   ]
  },
  {
   "cell_type": "code",
   "execution_count": 20,
   "id": "8321d7f6-bede-4cad-bd6d-4b3667cdb989",
   "metadata": {},
   "outputs": [
    {
     "data": {
      "text/plain": [
       "0.7310585786300049"
      ]
     },
     "execution_count": 20,
     "metadata": {},
     "output_type": "execute_result"
    }
   ],
   "source": [
    "sigmoid(1)"
   ]
  },
  {
   "cell_type": "code",
   "execution_count": 21,
   "id": "47c0728a-8b98-456a-8eee-001e8db510a9",
   "metadata": {},
   "outputs": [
    {
     "data": {
      "text/plain": [
       "4.780892883885469e-25"
      ]
     },
     "execution_count": 21,
     "metadata": {},
     "output_type": "execute_result"
    }
   ],
   "source": [
    "sigmoid(-56)"
   ]
  },
  {
   "cell_type": "code",
   "execution_count": 22,
   "id": "751d6fbb-0dfd-4d5c-af23-4cb0b2f1a187",
   "metadata": {},
   "outputs": [
    {
     "data": {
      "text/plain": [
       "0.6224593312018546"
      ]
     },
     "execution_count": 22,
     "metadata": {},
     "output_type": "execute_result"
    }
   ],
   "source": [
    "sigmoid(0.5)"
   ]
  },
  {
   "cell_type": "code",
   "execution_count": null,
   "id": "fc812d72-09fc-413d-8327-79bbb5c2dc21",
   "metadata": {},
   "outputs": [],
   "source": []
  },
  {
   "cell_type": "markdown",
   "id": "5b69f92e-d74b-4ea8-a1c0-826730fb5a96",
   "metadata": {},
   "source": [
    "# tanh function\n",
    "\n",
    "returns values between -1 and 1"
   ]
  },
  {
   "cell_type": "code",
   "execution_count": 23,
   "id": "98a55fc8-cc09-4f5c-98d8-b511948b4509",
   "metadata": {},
   "outputs": [],
   "source": [
    "def tanh(z):\n",
    "    return (math.exp(z) - math.exp(-z)) / (math.exp(z) + math.exp(-z))"
   ]
  },
  {
   "cell_type": "code",
   "execution_count": 24,
   "id": "31cad79c-7065-4a27-b729-3388a850fc81",
   "metadata": {},
   "outputs": [
    {
     "data": {
      "text/plain": [
       "1.0"
      ]
     },
     "execution_count": 24,
     "metadata": {},
     "output_type": "execute_result"
    }
   ],
   "source": [
    "tanh(100)"
   ]
  },
  {
   "cell_type": "code",
   "execution_count": 25,
   "id": "cd190cec-6225-4fda-a41b-3a501493a4cd",
   "metadata": {},
   "outputs": [
    {
     "data": {
      "text/plain": [
       "-1.0"
      ]
     },
     "execution_count": 25,
     "metadata": {},
     "output_type": "execute_result"
    }
   ],
   "source": [
    "tanh(-56)"
   ]
  },
  {
   "cell_type": "code",
   "execution_count": 26,
   "id": "3b092389-df4e-4805-82d2-37b3188d4f97",
   "metadata": {},
   "outputs": [
    {
     "data": {
      "text/plain": [
       "0.4621171572600098"
      ]
     },
     "execution_count": 26,
     "metadata": {},
     "output_type": "execute_result"
    }
   ],
   "source": [
    "tanh(0.5)"
   ]
  },
  {
   "cell_type": "code",
   "execution_count": null,
   "id": "b5112d34-621a-4ab2-8c81-8a2154971ce6",
   "metadata": {},
   "outputs": [],
   "source": []
  },
  {
   "cell_type": "markdown",
   "id": "103a2125-d924-4dad-b687-d86d371e830e",
   "metadata": {},
   "source": [
    "# ReLU function\n",
    "\n",
    "if value is less than 0 then it will return 0 if value is more than 0 then it reurn same value"
   ]
  },
  {
   "cell_type": "code",
   "execution_count": 30,
   "id": "65d9e7ae-d5df-4361-9735-1d6ed4a62ef8",
   "metadata": {},
   "outputs": [],
   "source": [
    "def relu(x):\n",
    "    return max(0,x)"
   ]
  },
  {
   "cell_type": "code",
   "execution_count": 31,
   "id": "8e86bbd3-145e-44ce-a2db-0fb8c89e7631",
   "metadata": {},
   "outputs": [
    {
     "data": {
      "text/plain": [
       "100"
      ]
     },
     "execution_count": 31,
     "metadata": {},
     "output_type": "execute_result"
    }
   ],
   "source": [
    "relu(100)"
   ]
  },
  {
   "cell_type": "code",
   "execution_count": 32,
   "id": "f16378d2-804f-4233-ab4f-ef99dfccca3c",
   "metadata": {},
   "outputs": [
    {
     "data": {
      "text/plain": [
       "0"
      ]
     },
     "execution_count": 32,
     "metadata": {},
     "output_type": "execute_result"
    }
   ],
   "source": [
    "relu(-2)"
   ]
  },
  {
   "cell_type": "code",
   "execution_count": null,
   "id": "9e2d0a52-2904-45a8-861b-eb3b179dd737",
   "metadata": {},
   "outputs": [],
   "source": []
  },
  {
   "cell_type": "markdown",
   "id": "2e81c1fa-3e14-4633-ad69-0ec35c4ea468",
   "metadata": {},
   "source": [
    "# Leaky ReLU"
   ]
  },
  {
   "cell_type": "code",
   "execution_count": 33,
   "id": "3b586200-77fb-4e8d-a295-a74a02e2b862",
   "metadata": {},
   "outputs": [],
   "source": [
    "def leaky_relu(x):\n",
    "    return max(0.1*x,x)"
   ]
  },
  {
   "cell_type": "code",
   "execution_count": 34,
   "id": "fbc2e600-1e0e-4e9b-a3e0-ed10e815a4db",
   "metadata": {},
   "outputs": [
    {
     "data": {
      "text/plain": [
       "10"
      ]
     },
     "execution_count": 34,
     "metadata": {},
     "output_type": "execute_result"
    }
   ],
   "source": [
    "leaky_relu(10)"
   ]
  },
  {
   "cell_type": "code",
   "execution_count": 37,
   "id": "28ea5194-182e-4fb2-8265-6448a5a2ca43",
   "metadata": {},
   "outputs": [
    {
     "data": {
      "text/plain": [
       "-1.0"
      ]
     },
     "execution_count": 37,
     "metadata": {},
     "output_type": "execute_result"
    }
   ],
   "source": [
    "leaky_relu(-10)"
   ]
  },
  {
   "cell_type": "code",
   "execution_count": null,
   "id": "d9d30954-df55-4936-b178-e382e26de9b6",
   "metadata": {},
   "outputs": [],
   "source": []
  }
 ],
 "metadata": {
  "kernelspec": {
   "display_name": "Python 3 (ipykernel)",
   "language": "python",
   "name": "python3"
  },
  "language_info": {
   "codemirror_mode": {
    "name": "ipython",
    "version": 3
   },
   "file_extension": ".py",
   "mimetype": "text/x-python",
   "name": "python",
   "nbconvert_exporter": "python",
   "pygments_lexer": "ipython3",
   "version": "3.11.7"
  }
 },
 "nbformat": 4,
 "nbformat_minor": 5
}
